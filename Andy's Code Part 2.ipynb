{
 "cells": [
  {
   "cell_type": "code",
   "execution_count": 1,
   "metadata": {},
   "outputs": [],
   "source": [
    "def removeEnd(self):\n",
    "    PV = self.headval\n",
    "    C = False\n",
    "    while PV is not None and (PV is not self.headval or C==False):\n",
    "        if(PV.nextval==self.headval):\n",
    "            C=True\n",
    "            PV.nextval=self.headval\n",
    "        PV=PV.nextval\n",
    "def removeStart(self):\n",
    "    PV = self.headval\n",
    "    C=False\n",
    "    while PV is not none and (PV is not self.headval or C == False):\n",
    "        if PV.nextval == self.headval:\n",
    "            C=True\n",
    "            PV.nextval=self.headval.nextval\n",
    "            self.headval=PV.nextval\n",
    "        PV=PV.nextval"
   ]
  },
  {
   "cell_type": "code",
   "execution_count": 2,
   "metadata": {},
   "outputs": [],
   "source": [
    "import random\n",
    "def addRandom(self, dataval=None):\n",
    "    count = 0\n",
    "    PV = self.headval\n",
    "    C = False\n",
    "    while PV is not None and (PV is not self.headval or C==False):\n",
    "        if(PV.nextval==self.headval):\n",
    "            C=True\n",
    "        count +=1\n",
    "        PV = PV.nextval\n",
    "    count = random.randint(0,count)\n",
    "    if count == 0:\n",
    "        self.newHead(dataval)\n",
    "    else:\n",
    "        Zz=False\n",
    "        PV=self.headval\n",
    "        while PV is not None and not Zz:\n",
    "            if count <= 0:\n",
    "                dataval.nextval=PV.nextval\n",
    "                PV.nextval=dataval\n",
    "                Zz=True\n",
    "            PV=PV.nextval\n",
    "            count-=1"
   ]
  },
  {
   "cell_type": "code",
   "execution_count": null,
   "metadata": {},
   "outputs": [],
   "source": [
    "class linkedStack(SlinkedList):\n",
    "    def add(self,dataval):\n",
    "        self.newEnd(node(dataval))\n",
    "    def remove(self):\n",
    "        self.removeEnd\n",
    "    def Print(self):\n",
    "        self.listprint()\n",
    "class linkedQueue(Slinkedlist):\n",
    "    def add(self,dataval):\n",
    "        self.newHead(node(dataval))\n",
    "    def remove(self):\n",
    "        self.removeEnd()\n",
    "    def Print(self):\n",
    "        self.listprint()"
   ]
  }
 ],
 "metadata": {
  "kernelspec": {
   "display_name": "Python 3",
   "language": "python",
   "name": "python3"
  },
  "language_info": {
   "codemirror_mode": {
    "name": "ipython",
    "version": 3
   },
   "file_extension": ".py",
   "mimetype": "text/x-python",
   "name": "python",
   "nbconvert_exporter": "python",
   "pygments_lexer": "ipython3",
   "version": "3.7.3"
  }
 },
 "nbformat": 4,
 "nbformat_minor": 2
}
